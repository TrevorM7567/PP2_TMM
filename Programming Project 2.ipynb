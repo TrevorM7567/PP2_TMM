{
 "cells": [
  {
   "cell_type": "code",
   "execution_count": 4,
   "id": "37fc8adb",
   "metadata": {},
   "outputs": [
    {
     "name": "stdout",
     "output_type": "stream",
     "text": [
      "Please enter a number between 1 and 69: 12\n",
      "Please enter a number between 1 and 69: 56\n",
      "Please enter a number between 1 and 69: 79\n",
      "Invalid number, please try again.\n",
      "Please enter a number between 1 and 69: 34\n",
      "Please enter a number between 1 and 69: 7\n",
      "Please enter a number between 1 and 69: 46\n",
      ">>> Today's lottery numbers are: \n",
      "[2, 29, 50, 51, 61]\n",
      ">>> Your selection: \n",
      "[12, 56, 34, 7, 46]\n",
      "You guessed 0 number(s) correctly.\n"
     ]
    }
   ],
   "source": [
    "import random \n",
    "\n",
    "lotterynumbers = []\n",
    "\n",
    "for i in range (0,5):\n",
    "    number = random.randint(1,69)\n",
    "    while number in lotterynumbers:\n",
    "        number = random.randint(1,69)\n",
    "        \n",
    "    lotterynumbers.append(number)\n",
    "\n",
    "lotterynumbers.sort()\n",
    "\n",
    "usernumbers = []\n",
    "for i in range (0,5):\n",
    "    number = int(input(\"Please enter a number between 1 and 69: \"))\n",
    "    while (number in usernumbers or number<1 or number>69):\n",
    "        print(\"Invalid number, please try again.\")\n",
    "        number = int(input(\"Please enter a number between 1 and 69: \"))\n",
    "        \n",
    "    usernumbers.append(number)\n",
    "    \n",
    "print(\">>> Today's lottery numbers are: \")\n",
    "print(lotterynumbers)\n",
    "\n",
    "print(\">>> Your selection: \")\n",
    "print(usernumbers)\n",
    "\n",
    "counter = 0 \n",
    "for number in usernumbers:\n",
    "    if number in lotterynumbers:\n",
    "        counter +=1\n",
    "        \n",
    "print(\"You guessed \" + str(counter) + \" number(s) correctly.\")"
   ]
  },
  {
   "cell_type": "code",
   "execution_count": 3,
   "id": "f8b25194",
   "metadata": {},
   "outputs": [
    {
     "name": "stdout",
     "output_type": "stream",
     "text": [
      "Please enter a number between 1 and 26: 15\n",
      ">>> Today's powerball number is: \n",
      "[10]\n",
      ">>> Your selection: \n",
      "[15]\n",
      "You guessed 0 correctly.\n"
     ]
    }
   ],
   "source": [
    "import random \n",
    "\n",
    "lotterynumbers2 = []\n",
    "\n",
    "for i in range (1):\n",
    "    number2 = random.randint(1,26)\n",
    "    while number in lotterynumbers2:\n",
    "        number2 = random.randint(1,26)\n",
    "        \n",
    "    lotterynumbers2.append(number2)\n",
    "\n",
    "lotterynumbers2.sort()\n",
    "\n",
    "usernumbers2 = []\n",
    "for i in range (1):\n",
    "    number2 = int(input(\"Please enter a number between 1 and 26: \"))\n",
    "    while (number2 in usernumbers2 or number2<1 or number2>26):\n",
    "        print(\"Invalid number, please try again.\")\n",
    "        number2 = int(input(\"Please enter a number between 1 and 26: \"))\n",
    "        \n",
    "    usernumbers2.append(number2)\n",
    "    \n",
    "print(\">>> Today's powerball number is: \")\n",
    "print(lotterynumbers2)\n",
    "\n",
    "print(\">>> Your selection: \")\n",
    "print(usernumbers2)\n",
    "\n",
    "counter = 0 \n",
    "for number2 in usernumbers2:\n",
    "    if number2 in lotterynumbers2:\n",
    "        counter +=1\n",
    "        \n",
    "print(\"You guessed \" + str(counter) + \" correctly.\")"
   ]
  },
  {
   "cell_type": "code",
   "execution_count": null,
   "id": "9a5c124d",
   "metadata": {},
   "outputs": [],
   "source": []
  }
 ],
 "metadata": {
  "kernelspec": {
   "display_name": "Python 3",
   "language": "python",
   "name": "python3"
  },
  "language_info": {
   "codemirror_mode": {
    "name": "ipython",
    "version": 3
   },
   "file_extension": ".py",
   "mimetype": "text/x-python",
   "name": "python",
   "nbconvert_exporter": "python",
   "pygments_lexer": "ipython3",
   "version": "3.8.8"
  }
 },
 "nbformat": 4,
 "nbformat_minor": 5
}
